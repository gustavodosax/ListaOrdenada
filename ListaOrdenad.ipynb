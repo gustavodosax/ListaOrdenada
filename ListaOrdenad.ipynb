{
 "cells": [
  {
   "cell_type": "markdown",
   "metadata": {},
   "source": [
    "# O Nó da lista"
   ]
  },
  {
   "cell_type": "code",
   "execution_count": 57,
   "metadata": {},
   "outputs": [],
   "source": [
    "class Node:\n",
    "    def __init__(self, qtd, preco, descricao):\n",
    "        self.qtd = qtd\n",
    "        self.preco = preco\n",
    "        self.descricao = descricao\n",
    "        self.next = None"
   ]
  },
  {
   "cell_type": "markdown",
   "metadata": {},
   "source": [
    "# Contrução da lista\n",
    "\n",
    "Estrutura da lista: Operação básicas\n",
    "\n",
    "* insert\n",
    "* search\n",
    "* remove\n",
    "\n",
    "Op complementares:\n",
    "\n",
    "* is_empty\n",
    "* displaY\n"
   ]
  },
  {
   "cell_type": "code",
   "execution_count": 58,
   "metadata": {},
   "outputs": [],
   "source": [
    "class OrdenedList:\n",
    "    def __init__(self):\n",
    "        self.head = None\n",
    "        \n",
    "        \n",
    "    def is_empty(self):\n",
    "        return self.head == None  \n",
    "    \n",
    "    def insert(self, qtd, preco, descricao):\n",
    "        new_node = Node(qtd, preco, descricao)\n",
    "        \n",
    "        if self.is_empty() or descricao == self.head.descricao:\n",
    "            new_node.next = self.head\n",
    "            self.head = new_node\n",
    "        else:\n",
    "            current = self.head\n",
    "            while current.next is not None and current.next.descricao < descricao:\n",
    "                current = current.next\n",
    "            new_node.next = current.next\n",
    "            current.next = new_node\n",
    "            \n",
    "    def search(self, descricao):\n",
    "        current = self.head\n",
    "        while current is not None:\n",
    "            if current.descricao == descricao:\n",
    "                return current\n",
    "            current = current.next           \n",
    "        return None\n",
    "    \n",
    "    def remove(self, descricao):\n",
    "        if self.is_empty():\n",
    "            return None\n",
    "        \n",
    "        if self.head.descricao == descricao:\n",
    "            removed_node = self.head\n",
    "            self.head = self.head.next       \n",
    "            return removed_node\n",
    "        \n",
    "        current = self.head\n",
    "        while current.next is not None and current.next.descricao != descricao:\n",
    "            current = current.next   \n",
    "            \n",
    "        if current.next is None: \n",
    "             return None \n",
    "             \n",
    "        \n",
    "        removed_node = current.next\n",
    "        current.next = current.next.next \n",
    "        return removed_node\n",
    "    \n",
    "    def display(self):\n",
    "        if self.is_empty():\n",
    "            print(\"Lista vazia\")\n",
    "\n",
    "        else:\n",
    "        \n",
    "            current = self.head\n",
    "            while current:\n",
    "                print(f\"Qtd: {current.qtd}, Preço: {current.preco}, Descrição: {current.descricao}\")\n",
    "                current = current.next"
   ]
  },
  {
   "cell_type": "code",
   "execution_count": 71,
   "metadata": {},
   "outputs": [
    {
     "name": "stdout",
     "output_type": "stream",
     "text": [
      "Qtd: 1, Preço: 10.0, Descrição: Arroz\n",
      "Qtd: 1, Preço: 9.0, Descrição: Feijão\n",
      "\n",
      "\n",
      "Nova lista:\n",
      "Qtd: 1, Preço: 9.0, Descrição: Feijão\n"
     ]
    }
   ],
   "source": [
    "ol = OrdenedList()\n",
    "\n",
    "ol.insert(1, 10.0, \"Arroz\")\n",
    "ol.insert(1, 9.0, \"Feijão\")\n",
    "\n",
    "ol.display()\n",
    "\n",
    "##resultado = ol.search(10.0)\n",
    "##print(resultado.descricao)\n",
    "\n",
    "ol.remove(\"Arroz\")\n",
    "##ol.remove(descricao=\"Feijão\")\n",
    "\n",
    "##resultado = ol.search(10.0)\n",
    "##print(resultado)\n",
    "print(\"\\n\\nNova lista:\")\n",
    "ol.display()\n",
    "\n",
    "\n"
   ]
  }
 ],
 "metadata": {
  "kernelspec": {
   "display_name": "Python 3",
   "language": "python",
   "name": "python3"
  },
  "language_info": {
   "codemirror_mode": {
    "name": "ipython",
    "version": 3
   },
   "file_extension": ".py",
   "mimetype": "text/x-python",
   "name": "python",
   "nbconvert_exporter": "python",
   "pygments_lexer": "ipython3",
   "version": "3.12.3"
  }
 },
 "nbformat": 4,
 "nbformat_minor": 2
}
